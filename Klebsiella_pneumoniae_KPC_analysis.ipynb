{
 "cells": [
  {
   "cell_type": "markdown",
   "id": "6aef2f8e-0b47-43e8-99f8-7d7b04bd8067",
   "metadata": {},
   "source": [
    "# Nanopore sequencing processing and assembly\n",
    "\n",
    "\n"
   ]
  },
  {
   "cell_type": "markdown",
   "id": "d1cb2b37-7565-46ae-8e2a-fd9b2f847b99",
   "metadata": {},
   "source": [
    "## Guppy Basecaller\n",
    "\n",
    "Guppy Basecaller is a software tool to convert the raw electrical signal (\"Squiggle\") data from nanopore sequencing into DNA sequences. \n",
    "Here's an example of a commonly used command with Guppy Basecaller:\n"
   ]
  },
  {
   "cell_type": "code",
   "execution_count": null,
   "id": "a452e1ce-d587-4510-98c2-138b0ff40e31",
   "metadata": {},
   "outputs": [],
   "source": [
    "guppy_basecaller -i /input/directory -s /output/directory --config configuration.cfg"
   ]
  },
  {
   "cell_type": "markdown",
   "id": "c49d91d6-37e9-4232-af7d-03d6195eb34b",
   "metadata": {},
   "source": [
    "In this command:\n",
    "\n",
    "- -i /input/directory specifies the input directory where the raw data files (.fast5 files) are located.\n",
    "- -s /output/directory specifies the output directory where the basecalled reads will be written.\n",
    "- --config configuration.cfg is used to specify a configuration file that contains the basecalling model and other settings. Here we used dna_r9.4.1_450bps_hac. \n",
    "\n",
    "This command will basecall the raw data in the specified input directory using the settings from the configuration file, and write the output to the specified output directory."
   ]
  },
  {
   "cell_type": "markdown",
   "id": "1b9f2718-eb7e-41dc-84b9-044725758e82",
   "metadata": {},
   "source": [
    "## Porechop\n",
    "\n",
    "Porechop is a tool developed for Oxford Nanopore sequencing data. It is used for finding and removing adapters from Oxford Nanopore reads. Adapters on the ends of reads are trimmed off, and when a read has an adapter in its middle, it is treated as chimeric and chopped into separate reads.\n",
    "\n",
    "Here's an example of a commonly used command with Porechop:\n"
   ]
  },
  {
   "cell_type": "code",
   "execution_count": null,
   "id": "9ee6b78c-3ea3-4bb7-82e8-ea3d23999324",
   "metadata": {},
   "outputs": [],
   "source": [
    "porechop -i input.fastq -o output.fastq"
   ]
  },
  {
   "cell_type": "markdown",
   "id": "d8eaf63d-29fc-4445-b028-edcf9c7a8a5d",
   "metadata": {},
   "source": [
    "\n",
    "In this command:\n",
    "\n",
    "- -i input.fastq specifies the input file (in FASTQ format) that you want to trim adapters from.\n",
    "- -o output.fastq specifies the output file where the trimmed reads will be written.\n",
    "\n",
    "This command reads the input FASTQ file, trims adapters from the reads, and writes the resulting trimmed reads to the output file."
   ]
  },
  {
   "cell_type": "markdown",
   "id": "90d55b4f-6efb-45bc-9fdd-ebe69b588e69",
   "metadata": {},
   "source": [
    "## NanoFilt\n",
    "\n",
    "NanoFilt is a tool to filter Oxford Nanopore sequencing data. It reads in a FASTQ file (or stdin), filters reads based on a minimum quality and/or a minimum length, and writes out the filtered reads to stdout.\n",
    "\n",
    "Here's an example of a commonly used command with NanoFilt:\n"
   ]
  },
  {
   "cell_type": "code",
   "execution_count": null,
   "id": "177f7ffc-10dc-499d-823b-1ad56395655e",
   "metadata": {},
   "outputs": [],
   "source": [
    "gunzip -c input.fastq.gz | NanoFilt -q 9 -l 200 | gzip > output.fastq.gz"
   ]
  },
  {
   "cell_type": "markdown",
   "id": "72048dae-6ec1-4dab-967f-898086e8a20f",
   "metadata": {},
   "source": [
    "\n",
    "In this command:\n",
    "\n",
    "- gunzip -c input.fastq.gz is used to decompress the input FASTQ file.\n",
    "- NanoFilt -q 9 -l 200 filters reads based on a minimum quality of 9 and a minimum length of 200.\n",
    "- gzip > output.fastq.gz compresses the filtered reads and writes them to the output file.\n",
    "\n",
    "This command decompresses the input FASTQ file, filters the reads based on the specified minimum quality and length, and writes the filtered reads to the output file in compressed format."
   ]
  },
  {
   "cell_type": "markdown",
   "id": "358e4498-287c-4213-a5a6-54bac5dd8031",
   "metadata": {},
   "source": [
    "## Flye\n",
    "\n",
    "Flye is a de novo assembler for single-molecule sequencing reads. The Flye assembler provides accurate, fast, and scalable solutions to assembly problems.\n",
    "\n",
    "Here's an example of a commonly used command with Flye:\n"
   ]
  },
  {
   "cell_type": "code",
   "execution_count": null,
   "id": "d0ed2177-875a-4b6a-a2e9-c9352363c026",
   "metadata": {},
   "outputs": [],
   "source": [
    "flye --nano-corr input.fastq --out-dir output_directory "
   ]
  },
  {
   "cell_type": "markdown",
   "id": "274b31fc-893f-4c23-b179-8670d8a1d8d4",
   "metadata": {},
   "source": [
    "\n",
    "In this command:\n",
    "\n",
    "- --nano-corr input.fastq specifies the input file containing the reads for filtered reads.\n",
    "- --out-dir output_directory specifies the directory where the assembly result will be written.\n",
    "\n",
    "This command runs Flye on the input reads, assembles the reads, and writes the assembly result to the specified output directory."
   ]
  },
  {
   "cell_type": "markdown",
   "id": "ad562c48-2b2e-4999-a374-3981ba5e8f0a",
   "metadata": {},
   "source": [
    "## Minimap2\n",
    "\n",
    "Minimap2 is a versatile sequence alignment program that aligns DNA or mRNA sequences against a large reference database. \n",
    "\n",
    "Here's an example of a commonly used command with Minimap2:\n"
   ]
  },
  {
   "cell_type": "code",
   "execution_count": null,
   "id": "6bf71d01-09b3-47de-9ada-0b43b2a39bbf",
   "metadata": {},
   "outputs": [],
   "source": [
    "minimap2 -ax map-ont /path/to/flye/output/assembly.fasta /path/to/nanofilt/output/reads.fastq | samtools sort -o /path/to/minimap2/output/reads.sorted.bam"
   ]
  },
  {
   "cell_type": "markdown",
   "id": "c7bb6bba-fa96-4caa-a864-15f63920e72d",
   "metadata": {},
   "source": [
    "\n",
    "In this command:\n",
    "\n",
    "- -ax map-ont tells minimap2 that the input are Oxford Nanopore reads.\n",
    "- /path/to/flye/output/assembly.fasta is the file path to the assembled sequences.\n",
    "- /path/to/nanofilt/output/reads.fastq is the file path to the nanopore reads.\n",
    "- samtools sort -o /path/to/minimap2/output/reads.sorted.bam sorts the output and specifies the output file path.\n",
    "\n",
    "This command runs minimap2 and realigns the initial reads to the assemblye assembled by flye."
   ]
  },
  {
   "cell_type": "markdown",
   "id": "1c29f8b2-78d2-4ba7-aa70-b5017b4821f9",
   "metadata": {},
   "source": [
    "## Racon\n",
    "\n",
    "Racon is a consensus module to correct raw contigs generated by rapid assembly methods which do not include a consensus step, such as Flye.\n",
    "\n",
    "Here's an example of a commonly used command with Racon:\n"
   ]
  },
  {
   "cell_type": "code",
   "execution_count": null,
   "id": "32077360-411a-4f3c-8a10-3d40aad4695e",
   "metadata": {},
   "outputs": [],
   "source": [
    "racon /path/to/nanofilt/output/reads.fastq /path/to/minimap2/output/reads.sorted.bam /path/to/flye/output/assembly.fasta > /path/to/racon/output/assembly.polished.fasta"
   ]
  },
  {
   "cell_type": "markdown",
   "id": "231eb8d0-76d3-4726-8d17-690cd175904b",
   "metadata": {},
   "source": [
    "\n",
    "In this command:\n",
    "\n",
    "- /path/to/nanofilt/output/reads.fastq is the file path to the nanopore reads.\n",
    "- /path/to/minimap2/output/reads.sorted.bam is the file path to the sorted alignment file.\n",
    "- /path/to/flye/output/assembly.fasta is the file path to the assembled sequences.\n",
    "- /path/to/racon/output/assembly.polished.fasta specifies the output file path."
   ]
  }
 ],
 "metadata": {
  "kernelspec": {
   "display_name": "Python 3 (ipykernel)",
   "language": "python",
   "name": "python3"
  },
  "language_info": {
   "codemirror_mode": {
    "name": "ipython",
    "version": 3
   },
   "file_extension": ".py",
   "mimetype": "text/x-python",
   "name": "python",
   "nbconvert_exporter": "python",
   "pygments_lexer": "ipython3",
   "version": "3.11.4"
  }
 },
 "nbformat": 4,
 "nbformat_minor": 5
}
